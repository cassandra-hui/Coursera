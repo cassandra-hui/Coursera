
# Data Science Tools and Ecosystem

In this notebook, Data Science Tools and Ecosystem are summarized.

**Objectives:**
- List popular languages for Data Science.
- Identify commonly used data science libraries.
- Utilize arithmetic expressions in Python.


## Some of the popular languages that Data Scientists use are:
1. Python
2. R
3. SQL

## Some of the commonly used libraries used by Data Scientists include:
1. pandas
2. NumPy
3. TensorFlow

## Data Science Tools
| Data Science Tools |
|--------------------|
| Jupyter Notebook   |
| RStudio            |
| Apache Zeppelin    |

### Below are a few examples of evaluating arithmetic expressions in Python.

```python
# This a simple arithmetic expression to multiply then add integers
(3 * 4) + 5
```

```python
# This will convert 200 minutes to hours by dividing by 60
200 / 60
```

## Author
Cassandr Hui
